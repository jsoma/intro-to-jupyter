{
 "cells": [
  {
   "cell_type": "code",
   "execution_count": 1,
   "id": "493e3437",
   "metadata": {},
   "outputs": [
    {
     "data": {
      "text/plain": [
       "7"
      ]
     },
     "execution_count": 1,
     "metadata": {},
     "output_type": "execute_result"
    }
   ],
   "source": [
    "7"
   ]
  },
  {
   "cell_type": "code",
   "execution_count": 2,
   "id": "f3ed15f4",
   "metadata": {},
   "outputs": [
    {
     "data": {
      "text/plain": [
       "49"
      ]
     },
     "execution_count": 2,
     "metadata": {},
     "output_type": "execute_result"
    }
   ],
   "source": [
    "7 * 7"
   ]
  },
  {
   "cell_type": "code",
   "execution_count": 3,
   "id": "1a5eb9d7",
   "metadata": {},
   "outputs": [
    {
     "data": {
      "text/plain": [
       "49"
      ]
     },
     "execution_count": 3,
     "metadata": {},
     "output_type": "execute_result"
    }
   ],
   "source": [
    "7\n",
    "7 * 7"
   ]
  },
  {
   "cell_type": "code",
   "execution_count": 4,
   "id": "9057091b",
   "metadata": {},
   "outputs": [
    {
     "name": "stdout",
     "output_type": "stream",
     "text": [
      "7\n"
     ]
    },
    {
     "data": {
      "text/plain": [
       "49"
      ]
     },
     "execution_count": 4,
     "metadata": {},
     "output_type": "execute_result"
    }
   ],
   "source": [
    "print(7)\n",
    "7 * 7"
   ]
  },
  {
   "cell_type": "code",
   "execution_count": 5,
   "id": "2bf900b0",
   "metadata": {},
   "outputs": [
    {
     "name": "stdout",
     "output_type": "stream",
     "text": [
      "7\n",
      "49\n"
     ]
    }
   ],
   "source": [
    "print(7)\n",
    "print(7 * 7)"
   ]
  },
  {
   "cell_type": "code",
   "execution_count": 6,
   "id": "5f0573e0",
   "metadata": {},
   "outputs": [
    {
     "data": {
      "text/plain": [
       "49"
      ]
     },
     "execution_count": 6,
     "metadata": {},
     "output_type": "execute_result"
    }
   ],
   "source": [
    "7 * 7"
   ]
  },
  {
   "cell_type": "code",
   "execution_count": 7,
   "id": "ddcf06e0",
   "metadata": {},
   "outputs": [
    {
     "name": "stdout",
     "output_type": "stream",
     "text": [
      "Soma\n"
     ]
    }
   ],
   "source": [
    "name = \"Soma\"\n",
    "print(name)"
   ]
  },
  {
   "cell_type": "code",
   "execution_count": 8,
   "id": "1c7cfc8a",
   "metadata": {},
   "outputs": [
    {
     "data": {
      "text/plain": [
       "'Soma'"
      ]
     },
     "execution_count": 8,
     "metadata": {},
     "output_type": "execute_result"
    }
   ],
   "source": [
    "name"
   ]
  },
  {
   "cell_type": "code",
   "execution_count": 9,
   "id": "11daf35e",
   "metadata": {},
   "outputs": [],
   "source": [
    "name = \"Mulberry\""
   ]
  },
  {
   "cell_type": "code",
   "execution_count": 10,
   "id": "ac231655",
   "metadata": {},
   "outputs": [
    {
     "data": {
      "text/plain": [
       "'Mulberry'"
      ]
     },
     "execution_count": 10,
     "metadata": {},
     "output_type": "execute_result"
    }
   ],
   "source": [
    "name"
   ]
  },
  {
   "cell_type": "code",
   "execution_count": 11,
   "id": "caf81343",
   "metadata": {},
   "outputs": [],
   "source": [
    "# I had number = 4, ran the cell, then deleted it, ran the cell again"
   ]
  },
  {
   "cell_type": "code",
   "execution_count": 12,
   "id": "0046d1b3",
   "metadata": {},
   "outputs": [],
   "source": [
    "# number * number"
   ]
  },
  {
   "cell_type": "code",
   "execution_count": 13,
   "id": "18b15ea1",
   "metadata": {},
   "outputs": [
    {
     "name": "stdout",
     "output_type": "stream",
     "text": [
      "Soma\n"
     ]
    }
   ],
   "source": [
    "print(\"Soma\")"
   ]
  },
  {
   "cell_type": "code",
   "execution_count": 14,
   "id": "cee5eb0d",
   "metadata": {},
   "outputs": [],
   "source": [
    "# Reminder to myself: unmute!!!"
   ]
  },
  {
   "cell_type": "markdown",
   "id": "d7560304",
   "metadata": {},
   "source": [
    "## Solutions to the homework\n",
    "\n",
    "We're getting our data from [the Pokemon API](https://pokeapi.co).\n",
    "\n",
    "> **NOTE:** Soma did unmute but he forgot to put the mic back onto his body\n",
    "\n",
    "### Problem 6: Korean names\n",
    "\n",
    "_This is a sentence all about what we're going to be doing below._ We're going to be seeing how **electric pokemon are called in Korean.**\n",
    "\n",
    "This is how you make a request to an API:\n",
    "\n",
    "```python\n",
    "import requests\n",
    "\n",
    "url = \"blah blah blah your URL\"\n",
    "response = requests.get(url)\n",
    "data = response.json()\n",
    "```"
   ]
  },
  {
   "cell_type": "code",
   "execution_count": 15,
   "id": "a5001be9",
   "metadata": {},
   "outputs": [],
   "source": [
    "import requests\n",
    "\n",
    "url = \"https://pokeapi.co/api/v2/type/electric/\"\n",
    "response = requests.get(url)\n",
    "data = response.json()"
   ]
  },
  {
   "cell_type": "code",
   "execution_count": 16,
   "id": "f32fa77c",
   "metadata": {},
   "outputs": [
    {
     "data": {
      "text/plain": [
       "dict_keys(['damage_relations', 'game_indices', 'generation', 'id', 'move_damage_class', 'moves', 'name', 'names', 'past_damage_relations', 'pokemon'])"
      ]
     },
     "execution_count": 16,
     "metadata": {},
     "output_type": "execute_result"
    }
   ],
   "source": [
    "data.keys()"
   ]
  },
  {
   "cell_type": "code",
   "execution_count": 17,
   "id": "849ded8b",
   "metadata": {},
   "outputs": [
    {
     "data": {
      "text/plain": [
       "[{'language': {'name': 'ja-Hrkt',\n",
       "   'url': 'https://pokeapi.co/api/v2/language/1/'},\n",
       "  'name': 'でんき'},\n",
       " {'language': {'name': 'ko', 'url': 'https://pokeapi.co/api/v2/language/3/'},\n",
       "  'name': '전기'},\n",
       " {'language': {'name': 'zh-Hant',\n",
       "   'url': 'https://pokeapi.co/api/v2/language/4/'},\n",
       "  'name': '電'},\n",
       " {'language': {'name': 'fr', 'url': 'https://pokeapi.co/api/v2/language/5/'},\n",
       "  'name': 'Électrik'},\n",
       " {'language': {'name': 'de', 'url': 'https://pokeapi.co/api/v2/language/6/'},\n",
       "  'name': 'Elektro'},\n",
       " {'language': {'name': 'es', 'url': 'https://pokeapi.co/api/v2/language/7/'},\n",
       "  'name': 'Eléctrico'},\n",
       " {'language': {'name': 'it', 'url': 'https://pokeapi.co/api/v2/language/8/'},\n",
       "  'name': 'Elettro'},\n",
       " {'language': {'name': 'en', 'url': 'https://pokeapi.co/api/v2/language/9/'},\n",
       "  'name': 'Electric'},\n",
       " {'language': {'name': 'ja', 'url': 'https://pokeapi.co/api/v2/language/11/'},\n",
       "  'name': 'でんき'},\n",
       " {'language': {'name': 'zh-Hans',\n",
       "   'url': 'https://pokeapi.co/api/v2/language/12/'},\n",
       "  'name': '电'}]"
      ]
     },
     "execution_count": 17,
     "metadata": {},
     "output_type": "execute_result"
    }
   ],
   "source": [
    "# Tried data['name'], but that's just the english name\n",
    "data['names']"
   ]
  },
  {
   "cell_type": "code",
   "execution_count": 18,
   "id": "00f74d49",
   "metadata": {},
   "outputs": [
    {
     "data": {
      "text/plain": [
       "{'language': {'name': 'ja-Hrkt',\n",
       "  'url': 'https://pokeapi.co/api/v2/language/1/'},\n",
       " 'name': 'でんき'}"
      ]
     },
     "execution_count": 18,
     "metadata": {},
     "output_type": "execute_result"
    }
   ],
   "source": [
    "data['names'][0]"
   ]
  },
  {
   "cell_type": "code",
   "execution_count": 19,
   "id": "977b0d65",
   "metadata": {},
   "outputs": [
    {
     "data": {
      "text/plain": [
       "{'language': {'name': 'ko', 'url': 'https://pokeapi.co/api/v2/language/3/'},\n",
       " 'name': '전기'}"
      ]
     },
     "execution_count": 19,
     "metadata": {},
     "output_type": "execute_result"
    }
   ],
   "source": [
    "data['names'][1]"
   ]
  },
  {
   "cell_type": "code",
   "execution_count": 20,
   "id": "be91b8e4",
   "metadata": {},
   "outputs": [
    {
     "data": {
      "text/plain": [
       "dict_keys(['language', 'name'])"
      ]
     },
     "execution_count": 20,
     "metadata": {},
     "output_type": "execute_result"
    }
   ],
   "source": [
    "data['names'][1].keys()"
   ]
  },
  {
   "cell_type": "code",
   "execution_count": 21,
   "id": "6252e505",
   "metadata": {},
   "outputs": [
    {
     "data": {
      "text/plain": [
       "'전기'"
      ]
     },
     "execution_count": 21,
     "metadata": {},
     "output_type": "execute_result"
    }
   ],
   "source": [
    "data['names'][1]['name']"
   ]
  },
  {
   "cell_type": "code",
   "execution_count": 22,
   "id": "4afb2790",
   "metadata": {},
   "outputs": [
    {
     "data": {
      "text/plain": [
       "[{'language': {'name': 'ja-Hrkt',\n",
       "   'url': 'https://pokeapi.co/api/v2/language/1/'},\n",
       "  'name': 'でんき'},\n",
       " {'language': {'name': 'ko', 'url': 'https://pokeapi.co/api/v2/language/3/'},\n",
       "  'name': '전기'},\n",
       " {'language': {'name': 'zh-Hant',\n",
       "   'url': 'https://pokeapi.co/api/v2/language/4/'},\n",
       "  'name': '電'},\n",
       " {'language': {'name': 'fr', 'url': 'https://pokeapi.co/api/v2/language/5/'},\n",
       "  'name': 'Électrik'},\n",
       " {'language': {'name': 'de', 'url': 'https://pokeapi.co/api/v2/language/6/'},\n",
       "  'name': 'Elektro'},\n",
       " {'language': {'name': 'es', 'url': 'https://pokeapi.co/api/v2/language/7/'},\n",
       "  'name': 'Eléctrico'},\n",
       " {'language': {'name': 'it', 'url': 'https://pokeapi.co/api/v2/language/8/'},\n",
       "  'name': 'Elettro'},\n",
       " {'language': {'name': 'en', 'url': 'https://pokeapi.co/api/v2/language/9/'},\n",
       "  'name': 'Electric'},\n",
       " {'language': {'name': 'ja', 'url': 'https://pokeapi.co/api/v2/language/11/'},\n",
       "  'name': 'でんき'},\n",
       " {'language': {'name': 'zh-Hans',\n",
       "   'url': 'https://pokeapi.co/api/v2/language/12/'},\n",
       "  'name': '电'}]"
      ]
     },
     "execution_count": 22,
     "metadata": {},
     "output_type": "execute_result"
    }
   ],
   "source": [
    "# Maybe the above is not ideal????\n",
    "data['names']"
   ]
  },
  {
   "cell_type": "code",
   "execution_count": 23,
   "id": "6dca0a57",
   "metadata": {},
   "outputs": [
    {
     "name": "stdout",
     "output_type": "stream",
     "text": [
      "I FOUND IT\n",
      "전기\n"
     ]
    }
   ],
   "source": [
    "# {\n",
    "#     'language': {\n",
    "#         'name': 'ja-Hrkt',\n",
    "#         'url': 'https://pokeapi.co/api/v2/language/1/'\n",
    "#     },\n",
    "#     'name': 'でんき'\n",
    "# }\n",
    "\n",
    "for name in data['names']:\n",
    "    # print(\"---------\")\n",
    "    # print(name)\n",
    "    # print(name['language']['name'])\n",
    "    # name['name'] is name of the type, not the\n",
    "    # name of the language\n",
    "    if name['language']['name'] == 'ko':\n",
    "        print(\"I FOUND IT\")\n",
    "        print(name['name'])"
   ]
  },
  {
   "cell_type": "code",
   "execution_count": null,
   "id": "10338a68",
   "metadata": {},
   "outputs": [],
   "source": []
  },
  {
   "cell_type": "code",
   "execution_count": null,
   "id": "50e0bc96",
   "metadata": {},
   "outputs": [],
   "source": []
  },
  {
   "cell_type": "code",
   "execution_count": null,
   "id": "12a4a304",
   "metadata": {},
   "outputs": [],
   "source": []
  },
  {
   "cell_type": "code",
   "execution_count": null,
   "id": "424270f7",
   "metadata": {},
   "outputs": [],
   "source": []
  },
  {
   "cell_type": "code",
   "execution_count": 24,
   "id": "90efe3d7",
   "metadata": {},
   "outputs": [],
   "source": [
    "url = \"https://pokeapi.co/api/v2/pokemon/pikachu/\"\n",
    "response = requests.get(url)\n",
    "data = response.json()"
   ]
  },
  {
   "cell_type": "code",
   "execution_count": 25,
   "id": "28168771",
   "metadata": {},
   "outputs": [
    {
     "data": {
      "text/plain": [
       "dict_keys(['abilities', 'base_experience', 'forms', 'game_indices', 'height', 'held_items', 'id', 'is_default', 'location_area_encounters', 'moves', 'name', 'order', 'past_types', 'species', 'sprites', 'stats', 'types', 'weight'])"
      ]
     },
     "execution_count": 25,
     "metadata": {},
     "output_type": "execute_result"
    }
   ],
   "source": [
    "data.keys()"
   ]
  },
  {
   "cell_type": "code",
   "execution_count": 26,
   "id": "65797fb4",
   "metadata": {},
   "outputs": [
    {
     "data": {
      "text/plain": [
       "{'base_stat': 90,\n",
       " 'effort': 2,\n",
       " 'stat': {'name': 'speed', 'url': 'https://pokeapi.co/api/v2/stat/6/'}}"
      ]
     },
     "execution_count": 26,
     "metadata": {},
     "output_type": "execute_result"
    }
   ],
   "source": [
    "data['stats'][-1]"
   ]
  },
  {
   "cell_type": "code",
   "execution_count": 27,
   "id": "370368a9",
   "metadata": {},
   "outputs": [
    {
     "name": "stdout",
     "output_type": "stream",
     "text": [
      "-----\n",
      "{'base_stat': 35, 'effort': 0, 'stat': {'name': 'hp', 'url': 'https://pokeapi.co/api/v2/stat/1/'}}\n",
      "-----\n",
      "{'base_stat': 55, 'effort': 0, 'stat': {'name': 'attack', 'url': 'https://pokeapi.co/api/v2/stat/2/'}}\n",
      "-----\n",
      "{'base_stat': 40, 'effort': 0, 'stat': {'name': 'defense', 'url': 'https://pokeapi.co/api/v2/stat/3/'}}\n",
      "-----\n",
      "{'base_stat': 50, 'effort': 0, 'stat': {'name': 'special-attack', 'url': 'https://pokeapi.co/api/v2/stat/4/'}}\n",
      "-----\n",
      "{'base_stat': 50, 'effort': 0, 'stat': {'name': 'special-defense', 'url': 'https://pokeapi.co/api/v2/stat/5/'}}\n",
      "-----\n",
      "{'base_stat': 90, 'effort': 2, 'stat': {'name': 'speed', 'url': 'https://pokeapi.co/api/v2/stat/6/'}}\n"
     ]
    }
   ],
   "source": [
    "for stat in data['stats']:\n",
    "    print(\"-----\")\n",
    "    print(stat)"
   ]
  },
  {
   "cell_type": "code",
   "execution_count": 28,
   "id": "15b78c99",
   "metadata": {},
   "outputs": [
    {
     "name": "stdout",
     "output_type": "stream",
     "text": [
      "-----\n",
      "-----\n",
      "-----\n",
      "-----\n",
      "-----\n",
      "-----\n",
      "FOUND SPEED!!!\n",
      "Pikachu's speed is 90\n"
     ]
    }
   ],
   "source": [
    "for stat in data['stats']:\n",
    "    print(\"-----\")\n",
    "    if stat['stat']['name'] == 'speed':\n",
    "        print(\"FOUND SPEED!!!\")\n",
    "        # print(stat)\n",
    "        pikachu_speed = stat['base_stat']\n",
    "\n",
    "print(\"Pikachu's speed is\", pikachu_speed)"
   ]
  },
  {
   "cell_type": "code",
   "execution_count": 29,
   "id": "a1be0dd6",
   "metadata": {},
   "outputs": [],
   "source": [
    "url = \"https://pokeapi.co/api/v2/pokemon/eevee/\"\n",
    "response = requests.get(url)\n",
    "data = response.json()"
   ]
  },
  {
   "cell_type": "code",
   "execution_count": 30,
   "id": "5cb5bca9",
   "metadata": {},
   "outputs": [
    {
     "name": "stdout",
     "output_type": "stream",
     "text": [
      "-----\n",
      "-----\n",
      "-----\n",
      "-----\n",
      "-----\n",
      "-----\n",
      "FOUND SPEED!!!\n",
      "Eevee's speed is 55\n"
     ]
    }
   ],
   "source": [
    "for stat in data['stats']:\n",
    "    print(\"-----\")\n",
    "    if stat['stat']['name'] == 'speed':\n",
    "        print(\"FOUND SPEED!!!\")\n",
    "        # print(stat)\n",
    "        eevee_speed = stat['base_stat']\n",
    "\n",
    "print(\"Eevee's speed is\", eevee_speed)"
   ]
  },
  {
   "cell_type": "code",
   "execution_count": 31,
   "id": "0a5a9244",
   "metadata": {},
   "outputs": [
    {
     "name": "stdout",
     "output_type": "stream",
     "text": [
      "pikachu is faster\n"
     ]
    }
   ],
   "source": [
    "if pikachu_speed > eevee_speed:\n",
    "    print(\"pikachu is faster\")\n",
    "elif eevee_speed > pikachu_speed:\n",
    "    print(\"eevee is faster\")\n",
    "else:\n",
    "    print(\"They're the same speed!\")"
   ]
  },
  {
   "cell_type": "code",
   "execution_count": null,
   "id": "533e8273",
   "metadata": {},
   "outputs": [],
   "source": []
  }
 ],
 "metadata": {
  "kernelspec": {
   "display_name": "Python 3 (ipykernel)",
   "language": "python",
   "name": "python3"
  },
  "language_info": {
   "codemirror_mode": {
    "name": "ipython",
    "version": 3
   },
   "file_extension": ".py",
   "mimetype": "text/x-python",
   "name": "python",
   "nbconvert_exporter": "python",
   "pygments_lexer": "ipython3",
   "version": "3.10.3"
  }
 },
 "nbformat": 4,
 "nbformat_minor": 5
}
